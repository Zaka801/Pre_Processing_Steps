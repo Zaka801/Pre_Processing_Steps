{
 "cells": [
  {
   "cell_type": "code",
   "execution_count": 2,
   "id": "17a4a8d8",
   "metadata": {},
   "outputs": [
    {
     "data": {
      "text/html": [
       "<div>\n",
       "<style scoped>\n",
       "    .dataframe tbody tr th:only-of-type {\n",
       "        vertical-align: middle;\n",
       "    }\n",
       "\n",
       "    .dataframe tbody tr th {\n",
       "        vertical-align: top;\n",
       "    }\n",
       "\n",
       "    .dataframe thead th {\n",
       "        text-align: right;\n",
       "    }\n",
       "</style>\n",
       "<table border=\"1\" class=\"dataframe\">\n",
       "  <thead>\n",
       "    <tr style=\"text-align: right;\">\n",
       "      <th></th>\n",
       "      <th>It is one of the greatest blessings for human life; however, nowadays humans fail to recognize it as one. Nature has been an inspiration for numerous poets, writers, artists and more of yesteryears. This remarkable creation inspired them to write poems and stories in the glory of it. They truly valued nature which reflects in their works even today. Essentially, nature is everything we are surrounded by like the water we drink, the air we breathe, the sun we soak in, the birds we hear chirping, the moon we gaze at and more. Above all, it is rich and vibrant and consists of bot living and non-living things. Therefore, people of the modern age should also learn something from people of yesteryear and start valuing nature before it gets too late.\\n</th>\n",
       "    </tr>\n",
       "  </thead>\n",
       "  <tbody>\n",
       "  </tbody>\n",
       "</table>\n",
       "</div>"
      ],
      "text/plain": [
       "Empty DataFrame\n",
       "Columns: [It is one of the greatest blessings for human life; however, nowadays humans fail to recognize it as one. Nature has been an inspiration for numerous poets, writers, artists and more of yesteryears. This remarkable creation inspired them to write poems and stories in the glory of it. They truly valued nature which reflects in their works even today. Essentially, nature is everything we are surrounded by like the water we drink, the air we breathe, the sun we soak in, the birds we hear chirping, the moon we gaze at and more. Above all, it is rich and vibrant and consists of bot living and non-living things. Therefore, people of the modern age should also learn something from people of yesteryear and start valuing nature before it gets too late.\n",
       "]\n",
       "Index: []"
      ]
     },
     "execution_count": 2,
     "metadata": {},
     "output_type": "execute_result"
    }
   ],
   "source": [
    "import pandas as pd \n",
    "df = pd.read_csv('nature.csv')\n",
    "df"
   ]
  },
  {
   "cell_type": "code",
   "execution_count": 3,
   "id": "adc738be",
   "metadata": {},
   "outputs": [
    {
     "name": "stdout",
     "output_type": "stream",
     "text": [
      "['Empty', 'DataFrame', 'Columns', ':', '[', 'It', 'is', 'one', 'of', 'the', 'greatest', 'blessings', 'for', 'human', 'life', ';', 'however', ',', 'nowadays', 'humans', 'fail', 'to', 'recognize', 'it', 'as', 'one', '.', 'Nature', 'has', 'been', 'an', 'inspiration', 'for', 'numerous', 'poets', ',', 'writers', ',', 'artists', 'and', 'more', 'of', 'yesteryears', '.', 'This', 'remarkable', 'creation', 'inspired', 'them', 'to', 'write', 'poems', 'and', 'stories', 'in', 'the', 'glory', 'of', 'it', '.', 'They', 'truly', 'valued', 'nature', 'which', 'reflects', 'in', 'their', 'works', 'even', 'today', '.', 'Essentially', ',', 'nature', 'is', 'everything', 'we', 'are', 'surrounded', 'by', 'like', 'the', 'water', 'we', 'drink', ',', 'the', 'air', 'we', 'breathe', ',', 'the', 'sun', 'we', 'soak', 'in', ',', 'the', 'birds', 'we', 'hear', 'chirping', ',', 'the', 'moon', 'we', 'gaze', 'at', 'and', 'more', '.', 'Above', 'all', ',', 'it', 'is', 'rich', 'and', 'vibrant', 'and', 'consists', 'of', 'bot', 'living', 'and', 'non-living', 'things', '.', 'Therefore', ',', 'people', 'of', 'the', 'modern', 'age', 'should', 'also', 'learn', 'something', 'from', 'people', 'of', 'yesteryear', 'and', 'start', 'valuing', 'nature', 'before', 'it', 'gets', 'too', 'late.', ']', 'Index', ':', '[', ']']\n"
     ]
    }
   ],
   "source": [
    "from nltk.tokenize import word_tokenize, sent_tokenize\n",
    "\n",
    "x = word_tokenize(str(df))\n",
    "print(x)"
   ]
  },
  {
   "cell_type": "code",
   "execution_count": 4,
   "id": "b9c7d3a6",
   "metadata": {},
   "outputs": [
    {
     "name": "stdout",
     "output_type": "stream",
     "text": [
      "['empti', 'datafram', 'column', ':', '[', 'it', 'is', 'one', 'of', 'the', 'greatest', 'bless', 'for', 'human', 'life', ';', 'howev', ',', 'nowaday', 'human', 'fail', 'to', 'recogn', 'it', 'as', 'one', '.', 'natur', 'ha', 'been', 'an', 'inspir', 'for', 'numer', 'poet', ',', 'writer', ',', 'artist', 'and', 'more', 'of', 'yesteryear', '.', 'thi', 'remark', 'creation', 'inspir', 'them', 'to', 'write', 'poem', 'and', 'stori', 'in', 'the', 'glori', 'of', 'it', '.', 'they', 'truli', 'valu', 'natur', 'which', 'reflect', 'in', 'their', 'work', 'even', 'today', '.', 'essenti', ',', 'natur', 'is', 'everyth', 'we', 'are', 'surround', 'by', 'like', 'the', 'water', 'we', 'drink', ',', 'the', 'air', 'we', 'breath', ',', 'the', 'sun', 'we', 'soak', 'in', ',', 'the', 'bird', 'we', 'hear', 'chirp', ',', 'the', 'moon', 'we', 'gaze', 'at', 'and', 'more', '.', 'abov', 'all', ',', 'it', 'is', 'rich', 'and', 'vibrant', 'and', 'consist', 'of', 'bot', 'live', 'and', 'non-liv', 'thing', '.', 'therefor', ',', 'peopl', 'of', 'the', 'modern', 'age', 'should', 'also', 'learn', 'someth', 'from', 'peopl', 'of', 'yesteryear', 'and', 'start', 'valu', 'natur', 'befor', 'it', 'get', 'too', 'late.', ']', 'index', ':', '[', ']']\n"
     ]
    }
   ],
   "source": [
    "from nltk.stem import PorterStemmer\n",
    "ps = PorterStemmer()\n",
    "v = [ps.stem(i) for i in x]\n",
    "print(v)"
   ]
  },
  {
   "cell_type": "code",
   "execution_count": 5,
   "id": "0cda856c",
   "metadata": {},
   "outputs": [
    {
     "name": "stdout",
     "output_type": "stream",
     "text": [
      "['empti', 'datafram', 'column', ':', '[', 'it', 'is', 'one', 'of', 'the', 'greatest', 'bless', 'for', 'human', 'life', ';', 'howev', ',', 'nowaday', 'human', 'fail', 'to', 'recogn', 'it', 'a', 'one', '.', 'natur', 'ha', 'been', 'an', 'inspir', 'for', 'numer', 'poet', ',', 'writer', ',', 'artist', 'and', 'more', 'of', 'yesteryear', '.', 'thi', 'remark', 'creation', 'inspir', 'them', 'to', 'write', 'poem', 'and', 'stori', 'in', 'the', 'glori', 'of', 'it', '.', 'they', 'truli', 'valu', 'natur', 'which', 'reflect', 'in', 'their', 'work', 'even', 'today', '.', 'essenti', ',', 'natur', 'is', 'everyth', 'we', 'are', 'surround', 'by', 'like', 'the', 'water', 'we', 'drink', ',', 'the', 'air', 'we', 'breath', ',', 'the', 'sun', 'we', 'soak', 'in', ',', 'the', 'bird', 'we', 'hear', 'chirp', ',', 'the', 'moon', 'we', 'gaze', 'at', 'and', 'more', '.', 'abov', 'all', ',', 'it', 'is', 'rich', 'and', 'vibrant', 'and', 'consist', 'of', 'bot', 'live', 'and', 'non-liv', 'thing', '.', 'therefor', ',', 'peopl', 'of', 'the', 'modern', 'age', 'should', 'also', 'learn', 'someth', 'from', 'peopl', 'of', 'yesteryear', 'and', 'start', 'valu', 'natur', 'befor', 'it', 'get', 'too', 'late.', ']', 'index', ':', '[', ']']\n"
     ]
    }
   ],
   "source": [
    "from nltk.stem import WordNetLemmatizer\n",
    "wnl = WordNetLemmatizer()\n",
    "w = [wnl.lemmatize(i) for i in v]\n",
    "print(w)"
   ]
  },
  {
   "cell_type": "code",
   "execution_count": 6,
   "id": "9517cd6b",
   "metadata": {},
   "outputs": [
    {
     "name": "stdout",
     "output_type": "stream",
     "text": [
      "['empti', 'datafram', 'column', ':', '[', 'greatest', 'bless', 'human', 'life', ';', 'howev', ',', 'nowaday', 'human', 'fail', 'recogn', '.', 'natur', 'inspir', 'numer', 'poet', ',', 'writer', ',', 'artist', 'yesteryear', '.', 'remark', 'creation', 'inspir', 'write', 'poem', 'stori', 'glori', '.', 'truli', 'valu', 'natur', 'reflect', 'work', 'today', '.', 'essenti', ',', 'natur', 'everyth', 'surround', 'water', 'drink', ',', 'air', 'breath', ',', 'sun', 'soak', ',', 'bird', 'hear', 'chirp', ',', 'moon', 'gaze', '.', 'abov', ',', 'rich', 'vibrant', 'consist', 'bot', 'live', 'non-liv', '.', 'therefor', ',', 'peopl', 'modern', 'age', 'learn', 'someth', 'peopl', 'yesteryear', 'start', 'valu', 'natur', 'befor', 'late.', ']', 'index', ':', '[', ']']\n"
     ]
    }
   ],
   "source": [
    "from nltk.corpus import stopwords\n",
    "sw = [i for i in w if not i in stopwords.words()]\n",
    "print(sw)"
   ]
  },
  {
   "cell_type": "code",
   "execution_count": null,
   "id": "ae7c4dd5",
   "metadata": {},
   "outputs": [],
   "source": []
  }
 ],
 "metadata": {
  "kernelspec": {
   "display_name": "Python 3 (ipykernel)",
   "language": "python",
   "name": "python3"
  },
  "language_info": {
   "codemirror_mode": {
    "name": "ipython",
    "version": 3
   },
   "file_extension": ".py",
   "mimetype": "text/x-python",
   "name": "python",
   "nbconvert_exporter": "python",
   "pygments_lexer": "ipython3",
   "version": "3.9.7"
  }
 },
 "nbformat": 4,
 "nbformat_minor": 5
}
